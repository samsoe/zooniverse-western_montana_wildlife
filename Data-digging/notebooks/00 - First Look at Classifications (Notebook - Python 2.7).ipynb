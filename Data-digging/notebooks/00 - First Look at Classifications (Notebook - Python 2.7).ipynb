{
 "cells": [
  {
   "cell_type": "markdown",
   "metadata": {},
   "source": [
    "# I downloaded my classifications; now what?\n",
    "\n",
    "This notebook will help you take a first look at your data, to get basic information about it like: how many classifications, how many classifiers (signed in and not signed in), etc. It uses Python 2.7.\n",
    "\n",
    "There are scripts to do this, but first let's just get a sense of what the data looks like.\n",
    "\n",
    "Before we begin, though, we will need the following packages:"
   ]
  },
  {
   "cell_type": "code",
   "execution_count": 12,
   "metadata": {},
   "outputs": [
    {
     "name": "stdout",
     "output_type": "stream",
     "text": [
      "Python version: 3.6.3, numpy version: 1.15.3, pandas version: 0.20.3. \n",
      "Originally developed using Py 2.7.11, np v1.11.0, pd v0.19.2\n",
      "If these versions don't match and stuff breaks, that's probably why.\n"
     ]
    }
   ],
   "source": [
    "import sys, os\n",
    "import numpy as np\n",
    "import pandas as pd\n",
    "\n",
    "print(\"Python version: %d.%d.%d, numpy version: %s, pandas version: %s. \\nOriginally developed using Py 2.7.11, np v1.11.0, pd v0.19.2\" %(sys.version_info[0], sys.version_info[1], sys.version_info[2], np.__version__, pd.__version__))\n",
    "print(\"If these versions don't match and stuff breaks, that's probably why.\")"
   ]
  },
  {
   "cell_type": "markdown",
   "metadata": {},
   "source": [
    "First, let's say your project is called \"My Project\". We'll make that a variable below, because any of the files we need to access (classifications file, workflow contents file, etc) will start with that name."
   ]
  },
  {
   "cell_type": "code",
   "execution_count": 10,
   "metadata": {},
   "outputs": [
    {
     "name": "stdout",
     "output_type": "stream",
     "text": [
      "western-montana-wildlife-classifications.csv\n"
     ]
    }
   ],
   "source": [
    "project_name = \"western-montana-wildlife\"\n",
    "\n",
    "classification_file = project_name + \"-classifications.csv\"\n",
    "\n",
    "print(classification_file)"
   ]
  },
  {
   "cell_type": "code",
   "execution_count": 9,
   "metadata": {},
   "outputs": [
    {
     "name": "stdout",
     "output_type": "stream",
     "text": [
      "total 1204928\r\n",
      "drwxr-xr-x  7 fresh_171228  staff        224 Nov 14 18:03 \u001b[34m.\u001b[m\u001b[m\r\n",
      "drwxr-xr-x  6 fresh_171228  staff        192 Nov 14 17:57 \u001b[34m..\u001b[m\u001b[m\r\n",
      "drwxr-xr-x  3 fresh_171228  staff         96 Nov 14 18:00 \u001b[34m.ipynb_checkpoints\u001b[m\u001b[m\r\n",
      "-rw-r--r--  1 fresh_171228  staff      14730 Nov 14 18:02 00 - First Look at Classifications (Notebook - Python 2.7).ipynb\r\n",
      "-rw-r--r--@ 1 fresh_171228  staff  606815708 Nov 14 17:54 western-montana-wildlife-classifications.csv\r\n",
      "-rw-r--r--@ 1 fresh_171228  staff     386709 Nov 14 17:54 western-montana-wildlife-workflow_contents.csv\r\n",
      "-rw-r--r--@ 1 fresh_171228  staff    8921639 Nov 14 17:54 western-montana-wildlife-workflows.csv\r\n"
     ]
    }
   ],
   "source": [
    "!ls -la"
   ]
  },
  {
   "cell_type": "markdown",
   "metadata": {},
   "source": [
    "Now let's read in that file, using a package called `pandas` which is designed to handle large tables."
   ]
  },
  {
   "cell_type": "code",
   "execution_count": 13,
   "metadata": {},
   "outputs": [
    {
     "name": "stdout",
     "output_type": "stream",
     "text": [
      "File western-montana-wildlife-classifications.csv read with 492111 rows.\n"
     ]
    },
    {
     "name": "stderr",
     "output_type": "stream",
     "text": [
      "/Users/fresh_171228/anaconda3/lib/python3.6/site-packages/IPython/core/interactiveshell.py:2698: DtypeWarning: Columns (8,9) have mixed types. Specify dtype option on import or set low_memory=False.\n",
      "  interactivity=interactivity, compiler=compiler, result=result)\n"
     ]
    }
   ],
   "source": [
    "classifications_all = pd.read_csv(classification_file)\n",
    "n_class = len(classifications_all)\n",
    "\n",
    "print(\"File %s read with %d rows.\" % (classification_file, n_class))"
   ]
  },
  {
   "cell_type": "markdown",
   "metadata": {},
   "source": [
    "The number of rows, which we've saved as `n_class`, is the same as the total number of classifications recorded in this file. \n",
    "\n",
    "  **Note:** The more classifications in your file, the more memory it will take for your computer to work with them using `pandas`. From my experience, a few million rows isn't too big a deal as long as you have at least 8 GB of RAM. If you have a lot more, you may need something with more memory than a laptop, or you might want to use a script that doesn't try to hold them all in memory at once, or a package meant to be parallelized, like `dask`.\n",
    "\n",
    "What does each classification actually contain? Here are the column headers:"
   ]
  },
  {
   "cell_type": "code",
   "execution_count": 14,
   "metadata": {},
   "outputs": [
    {
     "data": {
      "text/plain": [
       "Index(['classification_id', 'user_name', 'user_id', 'user_ip', 'workflow_id',\n",
       "       'workflow_name', 'workflow_version', 'created_at', 'gold_standard',\n",
       "       'expert', 'metadata', 'annotations', 'subject_data', 'subject_ids'],\n",
       "      dtype='object')"
      ]
     },
     "execution_count": 14,
     "metadata": {},
     "output_type": "execute_result"
    }
   ],
   "source": [
    "classifications_all.columns"
   ]
  },
  {
   "cell_type": "markdown",
   "metadata": {},
   "source": [
    "Each row in the file (i.e., each classification) includes:\n",
    "\n",
    " - **classification_id** - the unique ID assigned to each classification\n",
    " - **user_name** - the username the classifier chose when they registered on the site (this is public-facing as it's what they're identified with when they post on Talk)\n",
    " - **user_id** - the user's ID number in the Zooniverse database (this is not public; in the example file they've been hashed)\n",
    " - **user_ip** - a hashed version of the user's IP address\n",
    " - **workflow_id** - the ID number of the workflow this classification was recorded in\n",
    " - **workflow_name** - the text name of the workflow this classification was recorded in\n",
    " - **workflow_version** - the version number (format `major.minor`) of the workflow\n",
    " - **created_at** - the timestamp from when the classification was recorded\n",
    " - **metadata** - metadata from the classification such as browser information, operating system used\n",
    " - **annotations** - the actual information from the classification (answers / clicks / species identifications / etc, specific to this workflow id+version)\n",
    " - **subject_data** - the data on the subject that was uploaded as part of the subject upload\n",
    " - **subject_ids** - the unique identifier of all subjects classified in this classification (typically 1 subject)\n",
    " \n",
    "We can also quickly look at the first few rows in raw form:"
   ]
  },
  {
   "cell_type": "code",
   "execution_count": 16,
   "metadata": {},
   "outputs": [
    {
     "data": {
      "text/html": [
       "<div>\n",
       "<style>\n",
       "    .dataframe thead tr:only-child th {\n",
       "        text-align: right;\n",
       "    }\n",
       "\n",
       "    .dataframe thead th {\n",
       "        text-align: left;\n",
       "    }\n",
       "\n",
       "    .dataframe tbody tr th {\n",
       "        vertical-align: top;\n",
       "    }\n",
       "</style>\n",
       "<table border=\"1\" class=\"dataframe\">\n",
       "  <thead>\n",
       "    <tr style=\"text-align: right;\">\n",
       "      <th></th>\n",
       "      <th>classification_id</th>\n",
       "      <th>user_name</th>\n",
       "      <th>user_id</th>\n",
       "      <th>user_ip</th>\n",
       "      <th>workflow_id</th>\n",
       "      <th>workflow_name</th>\n",
       "      <th>workflow_version</th>\n",
       "      <th>created_at</th>\n",
       "      <th>gold_standard</th>\n",
       "      <th>expert</th>\n",
       "      <th>metadata</th>\n",
       "      <th>annotations</th>\n",
       "      <th>subject_data</th>\n",
       "      <th>subject_ids</th>\n",
       "    </tr>\n",
       "  </thead>\n",
       "  <tbody>\n",
       "    <tr>\n",
       "      <th>492106</th>\n",
       "      <td>128749350</td>\n",
       "      <td>SIUWildlifer87</td>\n",
       "      <td>1833099.0</td>\n",
       "      <td>2aeb98d9ed7f8226c468</td>\n",
       "      <td>3101</td>\n",
       "      <td>Winter Eagle Project</td>\n",
       "      <td>225.146</td>\n",
       "      <td>2018-10-26 15:21:33 UTC</td>\n",
       "      <td>NaN</td>\n",
       "      <td>NaN</td>\n",
       "      <td>{\"source\":\"api\",\"session\":\"84f9bac0aacdd40cfc6...</td>\n",
       "      <td>[{\"task\":\"T1\",\"value\":[{\"choice\":\"IMMATUREGOLD...</td>\n",
       "      <td>{\"24087619\":{\"retired\":null,\"url\":\"https://zoo...</td>\n",
       "      <td>24087619</td>\n",
       "    </tr>\n",
       "    <tr>\n",
       "      <th>492107</th>\n",
       "      <td>128749520</td>\n",
       "      <td>SIUWildlifer87</td>\n",
       "      <td>1833099.0</td>\n",
       "      <td>2aeb98d9ed7f8226c468</td>\n",
       "      <td>3101</td>\n",
       "      <td>Winter Eagle Project</td>\n",
       "      <td>225.146</td>\n",
       "      <td>2018-10-26 15:22:13 UTC</td>\n",
       "      <td>NaN</td>\n",
       "      <td>NaN</td>\n",
       "      <td>{\"source\":\"api\",\"session\":\"84f9bac0aacdd40cfc6...</td>\n",
       "      <td>[{\"task\":\"T1\",\"value\":[{\"choice\":\"MOUNTAINLION...</td>\n",
       "      <td>{\"24068453\":{\"retired\":null,\"url\":\"https://zoo...</td>\n",
       "      <td>24068453</td>\n",
       "    </tr>\n",
       "    <tr>\n",
       "      <th>492108</th>\n",
       "      <td>128750378</td>\n",
       "      <td>SIUWildlifer87</td>\n",
       "      <td>1833099.0</td>\n",
       "      <td>2aeb98d9ed7f8226c468</td>\n",
       "      <td>3101</td>\n",
       "      <td>Winter Eagle Project</td>\n",
       "      <td>225.146</td>\n",
       "      <td>2018-10-26 15:25:52 UTC</td>\n",
       "      <td>NaN</td>\n",
       "      <td>NaN</td>\n",
       "      <td>{\"source\":\"api\",\"session\":\"84f9bac0aacdd40cfc6...</td>\n",
       "      <td>[{\"task\":\"T1\",\"value\":[{\"choice\":\"BLACKBILLEDM...</td>\n",
       "      <td>{\"24084790\":{\"retired\":null,\"url\":\"https://zoo...</td>\n",
       "      <td>24084790</td>\n",
       "    </tr>\n",
       "    <tr>\n",
       "      <th>492109</th>\n",
       "      <td>128750965</td>\n",
       "      <td>SallySue</td>\n",
       "      <td>1822809.0</td>\n",
       "      <td>8f36c65862263c0fc770</td>\n",
       "      <td>3101</td>\n",
       "      <td>Winter Eagle Project</td>\n",
       "      <td>225.146</td>\n",
       "      <td>2018-10-26 15:28:49 UTC</td>\n",
       "      <td>NaN</td>\n",
       "      <td>NaN</td>\n",
       "      <td>{\"source\":\"api\",\"session\":\"141704adf080be49b33...</td>\n",
       "      <td>[{\"task\":\"T1\",\"value\":[{\"choice\":\"MOUNTAINLION...</td>\n",
       "      <td>{\"24066647\":{\"retired\":null,\"url\":\"https://zoo...</td>\n",
       "      <td>24066647</td>\n",
       "    </tr>\n",
       "    <tr>\n",
       "      <th>492110</th>\n",
       "      <td>128757714</td>\n",
       "      <td>SallySue</td>\n",
       "      <td>1822809.0</td>\n",
       "      <td>8f36c65862263c0fc770</td>\n",
       "      <td>3101</td>\n",
       "      <td>Winter Eagle Project</td>\n",
       "      <td>225.146</td>\n",
       "      <td>2018-10-26 16:22:38 UTC</td>\n",
       "      <td>NaN</td>\n",
       "      <td>NaN</td>\n",
       "      <td>{\"source\":\"api\",\"session\":\"141704adf080be49b33...</td>\n",
       "      <td>[{\"task\":\"T1\",\"value\":[{\"choice\":\"BLACKBILLEDM...</td>\n",
       "      <td>{\"24066690\":{\"retired\":null,\"url\":\"https://zoo...</td>\n",
       "      <td>24066690</td>\n",
       "    </tr>\n",
       "  </tbody>\n",
       "</table>\n",
       "</div>"
      ],
      "text/plain": [
       "        classification_id       user_name    user_id               user_ip  \\\n",
       "492106          128749350  SIUWildlifer87  1833099.0  2aeb98d9ed7f8226c468   \n",
       "492107          128749520  SIUWildlifer87  1833099.0  2aeb98d9ed7f8226c468   \n",
       "492108          128750378  SIUWildlifer87  1833099.0  2aeb98d9ed7f8226c468   \n",
       "492109          128750965        SallySue  1822809.0  8f36c65862263c0fc770   \n",
       "492110          128757714        SallySue  1822809.0  8f36c65862263c0fc770   \n",
       "\n",
       "        workflow_id         workflow_name  workflow_version  \\\n",
       "492106         3101  Winter Eagle Project           225.146   \n",
       "492107         3101  Winter Eagle Project           225.146   \n",
       "492108         3101  Winter Eagle Project           225.146   \n",
       "492109         3101  Winter Eagle Project           225.146   \n",
       "492110         3101  Winter Eagle Project           225.146   \n",
       "\n",
       "                     created_at gold_standard expert  \\\n",
       "492106  2018-10-26 15:21:33 UTC           NaN    NaN   \n",
       "492107  2018-10-26 15:22:13 UTC           NaN    NaN   \n",
       "492108  2018-10-26 15:25:52 UTC           NaN    NaN   \n",
       "492109  2018-10-26 15:28:49 UTC           NaN    NaN   \n",
       "492110  2018-10-26 16:22:38 UTC           NaN    NaN   \n",
       "\n",
       "                                                 metadata  \\\n",
       "492106  {\"source\":\"api\",\"session\":\"84f9bac0aacdd40cfc6...   \n",
       "492107  {\"source\":\"api\",\"session\":\"84f9bac0aacdd40cfc6...   \n",
       "492108  {\"source\":\"api\",\"session\":\"84f9bac0aacdd40cfc6...   \n",
       "492109  {\"source\":\"api\",\"session\":\"141704adf080be49b33...   \n",
       "492110  {\"source\":\"api\",\"session\":\"141704adf080be49b33...   \n",
       "\n",
       "                                              annotations  \\\n",
       "492106  [{\"task\":\"T1\",\"value\":[{\"choice\":\"IMMATUREGOLD...   \n",
       "492107  [{\"task\":\"T1\",\"value\":[{\"choice\":\"MOUNTAINLION...   \n",
       "492108  [{\"task\":\"T1\",\"value\":[{\"choice\":\"BLACKBILLEDM...   \n",
       "492109  [{\"task\":\"T1\",\"value\":[{\"choice\":\"MOUNTAINLION...   \n",
       "492110  [{\"task\":\"T1\",\"value\":[{\"choice\":\"BLACKBILLEDM...   \n",
       "\n",
       "                                             subject_data  subject_ids  \n",
       "492106  {\"24087619\":{\"retired\":null,\"url\":\"https://zoo...     24087619  \n",
       "492107  {\"24068453\":{\"retired\":null,\"url\":\"https://zoo...     24068453  \n",
       "492108  {\"24084790\":{\"retired\":null,\"url\":\"https://zoo...     24084790  \n",
       "492109  {\"24066647\":{\"retired\":null,\"url\":\"https://zoo...     24066647  \n",
       "492110  {\"24066690\":{\"retired\":null,\"url\":\"https://zoo...     24066690  "
      ]
     },
     "execution_count": 16,
     "metadata": {},
     "output_type": "execute_result"
    }
   ],
   "source": [
    "classifications_all.tail()"
   ]
  },
  {
   "cell_type": "markdown",
   "metadata": {},
   "source": [
    "Even if you ignore the classification annotations themselves, there's still a lot of information in this classification file. Let's find out some other basic information about the classifications. "
   ]
  },
  {
   "cell_type": "code",
   "execution_count": 17,
   "metadata": {},
   "outputs": [
    {
     "name": "stdout",
     "output_type": "stream",
     "text": [
      "492111 classifications from 7228 classifiers, of which 4503 (62 percent) were signed-in and 2725 (38 percent) were not signed in.\n",
      "\n",
      "Average classifications per user: 68.1\n"
     ]
    }
   ],
   "source": [
    "users_all = classifications_all['user_name'].unique()\n",
    "n_users = len(users_all)\n",
    "\n",
    "# if the classification is from a classifier who isn't signed in, the user_name field has \"not-logged-in-[user_ip]\"\n",
    "is_unreg = np.array([q.startswith(\"not-logged-in\") for q in users_all])\n",
    "is_reg   = np.invert(is_unreg)\n",
    "\n",
    "n_unreg = sum(is_unreg)\n",
    "n_reg   = sum(is_reg)\n",
    "\n",
    "print(\"%d classifications from %d classifiers, of which %d (%.0f percent) were signed-in and %d (%.0f percent) were not signed in.\\n\" % (n_class, n_users, n_reg, (float(n_reg)/float(n_users)*100.), n_unreg, (float(n_unreg)/float(n_users)*100.)))\n",
    "\n",
    "print(\"Average classifications per user: %.1f\" % (float(n_class)/float(n_users)))"
   ]
  },
  {
   "cell_type": "code",
   "execution_count": 18,
   "metadata": {},
   "outputs": [
    {
     "name": "stdout",
     "output_type": "stream",
     "text": [
      "Classifications registered between 2016-12-09 21:40:26 UTC and 2018-10-26 16:22:38 UTC.\n"
     ]
    }
   ],
   "source": [
    "# use created_at to print date range for classifications\n",
    "print(\"Classifications registered between %s and %s.\" % (classifications_all['created_at'][classifications_all.index[0]], classifications_all['created_at'][classifications_all.index[-1]]))"
   ]
  },
  {
   "cell_type": "code",
   "execution_count": 19,
   "metadata": {},
   "outputs": [
    {
     "name": "stdout",
     "output_type": "stream",
     "text": [
      "Latest classification ID in this file: 128757714\n"
     ]
    }
   ],
   "source": [
    "# print out the classification ID of the last classification (useful in some cases)\n",
    "print(\"Latest classification ID in this file: %d\" % classifications_all['classification_id'][classifications_all.index[-1]])"
   ]
  },
  {
   "cell_type": "markdown",
   "metadata": {},
   "source": [
    "There's more we could do here: compute medians as well as averages, figure out the typical time it takes for a user to complete a classification, work out how many hours of human effort were spent classifying, etc. We could also clean the classification export of duplicate and non-live classifications, and isolate classifications from just the workflow ID + version that we want to actually analyze.\n",
    "\n",
    "However, that's for the next notebook!"
   ]
  }
 ],
 "metadata": {
  "kernelspec": {
   "display_name": "Python 3",
   "language": "python",
   "name": "python3"
  },
  "language_info": {
   "codemirror_mode": {
    "name": "ipython",
    "version": 3
   },
   "file_extension": ".py",
   "mimetype": "text/x-python",
   "name": "python",
   "nbconvert_exporter": "python",
   "pygments_lexer": "ipython3",
   "version": "3.6.3"
  }
 },
 "nbformat": 4,
 "nbformat_minor": 2
}
