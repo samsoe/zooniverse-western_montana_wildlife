{
 "cells": [
  {
   "cell_type": "markdown",
   "metadata": {},
   "source": [
    "This notebook follows 2.0 documentation here\n",
    "* https://aggregation-caesar.zooniverse.org/Scripts.html"
   ]
  },
  {
   "cell_type": "code",
   "execution_count": 3,
   "metadata": {},
   "outputs": [
    {
     "name": "stdout",
     "output_type": "stream",
     "text": [
      "western-montana-wildlife-classifications.csv\r\n",
      "western-montana-wildlife-workflow_contents.csv\r\n",
      "western-montana-wildlife-workflows.csv\r\n"
     ]
    }
   ],
   "source": [
    "!ls *.csv"
   ]
  },
  {
   "cell_type": "code",
   "execution_count": 4,
   "metadata": {
    "collapsed": true
   },
   "outputs": [],
   "source": [
    "workflow_id = 3101\n",
    "workflow_version = 225.146"
   ]
  },
  {
   "cell_type": "markdown",
   "metadata": {},
   "source": [
    "### [Configure the extractors and reducers](https://aggregation-caesar.zooniverse.org/Scripts.html#configure-the-extractors-and-reducers)"
   ]
  },
  {
   "cell_type": "code",
   "execution_count": 16,
   "metadata": {},
   "outputs": [
    {
     "name": "stdout",
     "output_type": "stream",
     "text": [
      "Saving Extractor config to:\r\n",
      "/Users/fresh_171228/Projects/zooniverse-western_montana_wildlife/panoptes_aggregation/data_dumps/181026/Extractor_config_workflow_3101_V225.yaml\r\n",
      "\r\n",
      "Saving Reducer config to:\r\n",
      "/Users/fresh_171228/Projects/zooniverse-western_montana_wildlife/panoptes_aggregation/data_dumps/181026/Reducer_config_workflow_3101_V225_survey_extractor.yaml\r\n",
      "\r\n",
      "Saving task key look up table to:\r\n",
      "/Users/fresh_171228/Projects/zooniverse-western_montana_wildlife/panoptes_aggregation/data_dumps/181026/Task_labels_workflow_3101_V225.146.yaml\r\n"
     ]
    }
   ],
   "source": [
    "!panoptes_aggregation config western-montana-wildlife-workflows.csv\\\n",
    " 3101 -v 225 -c western-montana-wildlife-workflow_contents.csv -m 146"
   ]
  },
  {
   "cell_type": "code",
   "execution_count": 17,
   "metadata": {},
   "outputs": [
    {
     "name": "stdout",
     "output_type": "stream",
     "text": [
      "Extractor_config_workflow_3101_V225.yaml\r\n",
      "Reducer_config_workflow_3101_V225_survey_extractor.yaml\r\n",
      "Task_labels_workflow_3101_V225.146.yaml\r\n"
     ]
    }
   ],
   "source": [
    "!ls *.yaml"
   ]
  },
  {
   "cell_type": "markdown",
   "metadata": {},
   "source": [
    "### [Extracting Data](https://aggregation-caesar.zooniverse.org/Scripts.html#extracting-data)"
   ]
  },
  {
   "cell_type": "code",
   "execution_count": 18,
   "metadata": {},
   "outputs": [
    {
     "name": "stdout",
     "output_type": "stream",
     "text": [
      "sys:1: DtypeWarning: Columns (8,9) have mixed types. Specify dtype option on import or set low_memory=False.\n",
      "Extracting: 100% |#############################################| Time:  0:03:40\n"
     ]
    }
   ],
   "source": [
    "!panoptes_aggregation extract western-montana-wildlife-classifications.csv\\\n",
    " Extractor_config_workflow_3101_V225.yaml -o 001"
   ]
  },
  {
   "cell_type": "code",
   "execution_count": 19,
   "metadata": {},
   "outputs": [
    {
     "name": "stdout",
     "output_type": "stream",
     "text": [
      "survey_extractor_001.csv\r\n"
     ]
    }
   ],
   "source": [
    "!ls *001.csv"
   ]
  },
  {
   "cell_type": "markdown",
   "metadata": {},
   "source": [
    "### [Reducing data](https://aggregation-caesar.zooniverse.org/Scripts.html#reducing-data)\n",
    "* ?any changes to reducer_config which would help get better results?"
   ]
  },
  {
   "cell_type": "code",
   "execution_count": 24,
   "metadata": {
    "scrolled": true
   },
   "outputs": [
    {
     "name": "stdout",
     "output_type": "stream",
     "text": [
      "Reducing: 100% |###############################################| Time:  1:17:03\n"
     ]
    }
   ],
   "source": [
    "!panoptes_aggregation reduce survey_extractor_001.csv Reducer_config_workflow_3101_V225_survey_extractor.yaml -o 001"
   ]
  },
  {
   "cell_type": "code",
   "execution_count": 2,
   "metadata": {},
   "outputs": [
    {
     "name": "stdout",
     "output_type": "stream",
     "text": [
      "survey_extractor_001.csv survey_reducer_001.csv\r\n"
     ]
    }
   ],
   "source": [
    "!ls *001*"
   ]
  },
  {
   "cell_type": "code",
   "execution_count": null,
   "metadata": {
    "collapsed": true
   },
   "outputs": [],
   "source": []
  }
 ],
 "metadata": {
  "kernelspec": {
   "display_name": "Python 3",
   "language": "python",
   "name": "python3"
  },
  "language_info": {
   "codemirror_mode": {
    "name": "ipython",
    "version": 3
   },
   "file_extension": ".py",
   "mimetype": "text/x-python",
   "name": "python",
   "nbconvert_exporter": "python",
   "pygments_lexer": "ipython3",
   "version": "3.6.3"
  }
 },
 "nbformat": 4,
 "nbformat_minor": 2
}
